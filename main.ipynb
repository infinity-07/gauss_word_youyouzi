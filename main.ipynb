{
 "cells": [
  {
   "cell_type": "code",
   "execution_count": 77,
   "metadata": {},
   "outputs": [],
   "source": [
    "# 定义一个函数来读取txt文件并将每一行存储到列表中\n",
    "def read_lines_to_list(filename):\n",
    "    lines = []  # 创建一个空列表\n",
    "    try:\n",
    "        # 打开文件并读取每一行\n",
    "        with open(filename, 'r', encoding='utf-8') as file:\n",
    "            for line in file:\n",
    "                lines.append(line.strip())  # 去除每行的换行符，并添加到列表中\n",
    "    except FileNotFoundError:\n",
    "        print(f\"文件 {filename} 未找到。\")\n",
    "    except Exception as e:\n",
    "        print(f\"发生错误: {e}\")\n",
    "    return lines"
   ]
  },
  {
   "cell_type": "code",
   "execution_count": 78,
   "metadata": {},
   "outputs": [
    {
     "name": "stdout",
     "output_type": "stream",
     "text": [
      "['perineuria', 'persuading', 'persuasion', 'praemunire', 'primaquine']\n"
     ]
    }
   ],
   "source": [
    "def filter_words(word_list, n, excluded_letters, included_letters, position_constraints=None):\n",
    "    \"\"\"\n",
    "    筛选出数组中长度为n且不包含指定排除的字母，并且包含所有指定字母的单词，\n",
    "    同时可选地根据position_constraints指定单词中某些位置的字母。\n",
    "\n",
    "    :param word_list: 一个包含英文单词的列表\n",
    "    :param n: 需要筛选的单词长度\n",
    "    :param excluded_letters: 一个字符串，包含需要排除的字母\n",
    "    :param included_letters: 一个字符串，包含需要全部包含的字母\n",
    "    :param position_constraints: 一个列表，用于指定单词中某些位置的字母。如果位置不指定则留空字符串。\n",
    "    :return: 符合条件的单词列表\n",
    "    \"\"\"\n",
    "\n",
    "    # 检查 excluded_letters 和 included_letters 中是否有重复的字母\n",
    "    repeated_letters = set(excluded_letters) & set(included_letters)\n",
    "    if repeated_letters:\n",
    "        raise ValueError(f\"excluded_letters 和 included_letters 中包含了重复的字母: {', '.join(repeated_letters)}\")\n",
    "\n",
    "    # 如果提供了 position_constraints，则检查其长度是否与 n 一致\n",
    "    if position_constraints is not None and len(position_constraints) != n:\n",
    "        raise ValueError(\"position_constraints 的长度必须与 n 相等\")\n",
    "\n",
    "    filtered_words = [\n",
    "        word for word in word_list\n",
    "        if len(word) == n  # 判断单词长度是否等于给定的数值 n\n",
    "        and not any(letter in word for letter in excluded_letters)  # 检查单词中是否不包含任何在 excluded_letters 列表中的字母\n",
    "        and all(letter in word for letter in included_letters)  # 检查单词中是否包含所有在 included_letters 列表中的字母\n",
    "        and (position_constraints is None or all(\n",
    "            (position_constraints[i] == '' or word[i] == position_constraints[i])\n",
    "            for i in range(n)\n",
    "        ))  # 如果指定了 position_constraints，检查每个位置是否符合\n",
    "    ]\n",
    "    return filtered_words\n",
    "\n",
    "word_list =read_lines_to_list('words.txt')\n",
    "n = 10\n",
    "excluded_letters = 'vtlf'\n",
    "included_letters = 'painuer'\n",
    "position_constraints = ['p', '', '', '', '', '', '', '', '', ''] \n",
    "\n",
    "filtered = filter_words(word_list, n, excluded_letters, included_letters, position_constraints)\n",
    "print(filtered)"
   ]
  },
  {
   "cell_type": "code",
   "execution_count": null,
   "metadata": {},
   "outputs": [],
   "source": []
  },
  {
   "cell_type": "code",
   "execution_count": null,
   "metadata": {},
   "outputs": [],
   "source": []
  }
 ],
 "metadata": {
  "kernelspec": {
   "display_name": "Python 3",
   "language": "python",
   "name": "python3"
  },
  "language_info": {
   "codemirror_mode": {
    "name": "ipython",
    "version": 3
   },
   "file_extension": ".py",
   "mimetype": "text/x-python",
   "name": "python",
   "nbconvert_exporter": "python",
   "pygments_lexer": "ipython3",
   "version": "3.11.0"
  }
 },
 "nbformat": 4,
 "nbformat_minor": 2
}
